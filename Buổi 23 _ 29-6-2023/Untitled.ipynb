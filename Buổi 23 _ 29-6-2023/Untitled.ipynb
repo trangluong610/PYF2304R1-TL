{
 "cells": [
  {
   "cell_type": "code",
   "execution_count": 1,
   "id": "a842702f",
   "metadata": {},
   "outputs": [],
   "source": [
    "class Ingredient:\n",
    "    def __init__(self, name, quantity):\n",
    "        self.name = name\n",
    "        self.quantity = quantity\n",
    "    def str (self):\n",
    "        return f\"Name: {self.name}, Quantity: {self.quantity}\""
   ]
  },
  {
   "cell_type": "code",
   "execution_count": null,
   "id": "4b701710",
   "metadata": {},
   "outputs": [
    {
     "name": "stderr",
     "output_type": "stream",
     "text": [
      "Exception in Tkinter callback\n",
      "Traceback (most recent call last):\n",
      "  File \"C:\\Users\\Dell\\AppData\\Local\\Programs\\Python\\Python311\\Lib\\tkinter\\__init__.py\", line 1948, in __call__\n",
      "    return self.func(*args)\n",
      "           ^^^^^^^^^^^^^^^^\n",
      "  File \"C:\\Users\\Dell\\AppData\\Local\\Temp\\ipykernel_4656\\2621587547.py\", line 16, in add_ingredient\n",
      "    new_ingredient = Ingredient(name_value, int(quantity_value))\n",
      "                     ^^^^^^^^^^\n",
      "NameError: name 'Ingredient' is not defined\n"
     ]
    }
   ],
   "source": [
    "class Ingredient:\n",
    "    def __init__(self, name, quantity):\n",
    "        self.name = name\n",
    "        self.quantity = quantity\n",
    "    def str (self):\n",
    "        return f\"Name: {self.name}, Quantity: {self.quantity}\"\n",
    "\n",
    "from tkinter import *\n",
    "from tkinter import messagebox\n",
    "\n",
    "window = Tk()\n",
    "window.title('Ingredient Management System')\n",
    "\n",
    "ingredient_list = []\n",
    "\n",
    "def add_ingredient():\n",
    "    name_value = name.get() # Lấy giá trị mà user đã nhập vào entry name\n",
    "    quantity_value = quantity.get()\n",
    "    \n",
    "    if (name_value == \"\" or quantity_value == \"\") or (name_value == \"\" and quantity_value == \"\"):\n",
    "        messagebox.showerror(\"Ingredient\", \"Please enter name and quantity\")\n",
    "    else:\n",
    "        new_ingredient = Ingredient(name_value, int(quantity_value))\n",
    "        ingredient_list.append(new_ingredient)\n",
    "        \n",
    "        for ingredient in ingredient_list:\n",
    "            print(ingredient.name)\n",
    "        \n",
    "lbl_name = Label(window, text = 'Name: ')\n",
    "lbl_quantity = Label(window, text = 'Quantity: ')\n",
    "\n",
    "name = Entry(window)\n",
    "quantity = Entry(window)\n",
    "search_name = Entry(window)\n",
    "\n",
    "btn_add = Button(window, text = \"Add\", command = add_ingredient)\n",
    "btn_delete = Button(window, text = \"Delete\")\n",
    "btn_reset = Button(window, text = \"Reset\")\n",
    "btn_search = Button(window, text = \"Search\")\n",
    "\n",
    "lbl_name.grid(row=0, column=0)\n",
    "name.grid(row=0, column=1)\n",
    "lbl_quantity.grid(row=1, column=0)\n",
    "quantity.grid(row=1, column=1)\n",
    "btn_add.grid(row=2, column=0)\n",
    "btn_delete.grid(row=2, column=1)\n",
    "btn_reset.grid(row=2, column=2)\n",
    "search_name.grid(row=3, column=0)\n",
    "btn_search.grid(row=3, column=1)\n",
    "\n",
    "window.mainloop()"
   ]
  }
 ],
 "metadata": {
  "kernelspec": {
   "display_name": "Python 3 (ipykernel)",
   "language": "python",
   "name": "python3"
  },
  "language_info": {
   "codemirror_mode": {
    "name": "ipython",
    "version": 3
   },
   "file_extension": ".py",
   "mimetype": "text/x-python",
   "name": "python",
   "nbconvert_exporter": "python",
   "pygments_lexer": "ipython3",
   "version": "3.11.3"
  }
 },
 "nbformat": 4,
 "nbformat_minor": 5
}
