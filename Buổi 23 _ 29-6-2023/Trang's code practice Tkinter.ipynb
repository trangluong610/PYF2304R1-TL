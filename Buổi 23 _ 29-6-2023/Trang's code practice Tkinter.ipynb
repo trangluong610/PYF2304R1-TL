{
 "cells": [
  {
   "cell_type": "code",
   "execution_count": 2,
   "id": "63f8b958",
   "metadata": {},
   "outputs": [],
   "source": [
    "class Ingredient:\n",
    "    def __init__ (self, name, quantity):\n",
    "        self.name = name\n",
    "        self.quantity = quantity\n",
    "        \n",
    "    def __str__(self):\n",
    "        return f\"Name: {self.name}, Quantity: {self.quantity}\"\n",
    "    "
   ]
  },
  {
   "cell_type": "code",
   "execution_count": 11,
   "id": "472865c4",
   "metadata": {},
   "outputs": [
    {
     "name": "stdout",
     "output_type": "stream",
     "text": [
      "['aaa']\n",
      "['aaa', 'bbb']\n"
     ]
    }
   ],
   "source": [
    "from tkinter import *\n",
    "from tkinter import messagebox\n",
    "window = Tk()\n",
    "window.title(\"Ingredient Management System\")\n",
    "\n",
    "ingredient_list = []\n",
    "\n",
    "def add_ingredient():\n",
    "    name_value = name.get() # Lấy giá trị mà user đã nhập vào entry name\n",
    "    quantity_value = quantity.get()\n",
    "    \n",
    "    if name_value == \"\" or quantity_value == \"\":\n",
    "        messagebox.showerror(\"Ingredient\", \"Please enter name and quantity\")\n",
    "    else:\n",
    "        new_ingredient = Ingredient(name_value,int(quantity_value))\n",
    "        ingredient_list.append(new_ingredient)\n",
    "\n",
    "        print([ingredient.name for ingredient in ingredient_list])\n",
    "        messagebox.showinfo(\"Ingredient\", f\"Added {name_value} successfully!\")  \n",
    "\n",
    "def delete_ingredient():\n",
    "    delete_name = search_name.get()\n",
    "    check = False\n",
    "    \n",
    "    for i in range (len(ingredient_list)):\n",
    "        if ingredient_list[i].name == delete_name:\n",
    "            del ingredient_list[i]\n",
    "            print([ingredient.name for ingredient in ingredient_list])\n",
    "            messagebox.showinfo(\"Delete ingredient\", f\"Delete {delete_name} successfully!\")\n",
    "            check = True\n",
    "            break\n",
    "    if check == False:\n",
    "        messagebox.showerror(\"Delete Ingredient\", \"Cannot find ingredient!\")\n",
    "        \n",
    "def search_ingredient():\n",
    "    search_ingredient = search_name.get()\n",
    "    check = False\n",
    "    \n",
    "    for i in range(len(ingredient_list)):\n",
    "        if ingredient_list[i].name == search_ingredient:\n",
    "            messagebox.showinfo (\"Search Ingredient\", ingredient_list[i])\n",
    "            check = True\n",
    "            break\n",
    "    if check == False:\n",
    "        messagebox.showerror(\"Search Ingredient\", \"Cannot find ingredient!\")\n",
    "            \n",
    "def reset():\n",
    "    name.delete(0, \"end\")\n",
    "    quantity.delete(0, \"end\")\n",
    "    search_name.delete(0, \"end\")\n",
    "\n",
    "lbl_name = Label(window, text = \"Name: \")\n",
    "lbl_quantity = Label(window, text = \"Quantity: \")\n",
    "\n",
    "name = Entry(window)\n",
    "quantity = Entry(window)\n",
    "search_name = Entry(window)\n",
    "\n",
    "btn_add = Button(window, text = 'Add', command = add_ingredient)\n",
    "btn_delete = Button(window, text = 'Delete', command = delete_ingredient)\n",
    "btn_reset = Button(window, text = 'Reset', command = reset)\n",
    "btn_search = Button(window, text = 'Search', command = search_ingredient)\n",
    "\n",
    "lbl_name.grid(row = 0, column = 0)\n",
    "name.grid(row = 0, column = 1)\n",
    "lbl_quantity.grid(row = 1, column = 0)\n",
    "quantity.grid(row = 1, column = 1)\n",
    "btn_add.grid(row = 2, column = 0)\n",
    "btn_delete.grid(row = 2, column = 1)\n",
    "btn_reset.grid(row = 2, column = 2)\n",
    "search_name.grid(row = 3, column = 0)\n",
    "btn_search.grid(row = 3, column = 1)\n",
    "\n",
    "window.mainloop()\n"
   ]
  },
  {
   "cell_type": "code",
   "execution_count": 22,
   "id": "84a5bd02",
   "metadata": {},
   "outputs": [
    {
     "ename": "TclError",
     "evalue": "Invalid column index quantiy",
     "output_type": "error",
     "traceback": [
      "\u001b[1;31m---------------------------------------------------------------------------\u001b[0m",
      "\u001b[1;31mTclError\u001b[0m                                  Traceback (most recent call last)",
      "Cell \u001b[1;32mIn[22], line 14\u001b[0m\n\u001b[0;32m     11\u001b[0m tree \u001b[38;5;241m=\u001b[39m ttk\u001b[38;5;241m.\u001b[39mTreeview(root, columns\u001b[38;5;241m=\u001b[39mcolumns, show\u001b[38;5;241m=\u001b[39m\u001b[38;5;124m'\u001b[39m\u001b[38;5;124mheadings\u001b[39m\u001b[38;5;124m'\u001b[39m)\n\u001b[0;32m     13\u001b[0m tree\u001b[38;5;241m.\u001b[39mheading(\u001b[38;5;124m'\u001b[39m\u001b[38;5;124mname\u001b[39m\u001b[38;5;124m'\u001b[39m, text\u001b[38;5;241m=\u001b[39m\u001b[38;5;124m'\u001b[39m\u001b[38;5;124mName\u001b[39m\u001b[38;5;124m'\u001b[39m)\n\u001b[1;32m---> 14\u001b[0m \u001b[43mtree\u001b[49m\u001b[38;5;241;43m.\u001b[39;49m\u001b[43mheading\u001b[49m\u001b[43m(\u001b[49m\u001b[38;5;124;43m'\u001b[39;49m\u001b[38;5;124;43mquantiy\u001b[39;49m\u001b[38;5;124;43m'\u001b[39;49m\u001b[43m,\u001b[49m\u001b[43m \u001b[49m\u001b[43mtext\u001b[49m\u001b[38;5;241;43m=\u001b[39;49m\u001b[38;5;124;43m'\u001b[39;49m\u001b[38;5;124;43mQuantity\u001b[39;49m\u001b[38;5;124;43m'\u001b[39;49m\u001b[43m)\u001b[49m\n\u001b[0;32m     16\u001b[0m \u001b[38;5;66;03m# Step 6: generate a list of tuples for displaying on the Treeview:\u001b[39;00m\n\u001b[0;32m     17\u001b[0m ingredients \u001b[38;5;241m=\u001b[39m []\n",
      "File \u001b[1;32m~\\AppData\\Local\\Programs\\Python\\Python311\\Lib\\tkinter\\ttk.py:1274\u001b[0m, in \u001b[0;36mTreeview.heading\u001b[1;34m(self, column, option, **kw)\u001b[0m\n\u001b[0;32m   1271\u001b[0m \u001b[38;5;28;01mif\u001b[39;00m option \u001b[38;5;129;01mis\u001b[39;00m \u001b[38;5;129;01mnot\u001b[39;00m \u001b[38;5;28;01mNone\u001b[39;00m:\n\u001b[0;32m   1272\u001b[0m     kw[option] \u001b[38;5;241m=\u001b[39m \u001b[38;5;28;01mNone\u001b[39;00m\n\u001b[1;32m-> 1274\u001b[0m \u001b[38;5;28;01mreturn\u001b[39;00m \u001b[43m_val_or_dict\u001b[49m\u001b[43m(\u001b[49m\u001b[38;5;28;43mself\u001b[39;49m\u001b[38;5;241;43m.\u001b[39;49m\u001b[43mtk\u001b[49m\u001b[43m,\u001b[49m\u001b[43m \u001b[49m\u001b[43mkw\u001b[49m\u001b[43m,\u001b[49m\u001b[43m \u001b[49m\u001b[38;5;28;43mself\u001b[39;49m\u001b[38;5;241;43m.\u001b[39;49m\u001b[43m_w\u001b[49m\u001b[43m,\u001b[49m\u001b[43m \u001b[49m\u001b[38;5;124;43m'\u001b[39;49m\u001b[38;5;124;43mheading\u001b[39;49m\u001b[38;5;124;43m'\u001b[39;49m\u001b[43m,\u001b[49m\u001b[43m \u001b[49m\u001b[43mcolumn\u001b[49m\u001b[43m)\u001b[49m\n",
      "File \u001b[1;32m~\\AppData\\Local\\Programs\\Python\\Python311\\Lib\\tkinter\\ttk.py:281\u001b[0m, in \u001b[0;36m_val_or_dict\u001b[1;34m(tk, options, *args)\u001b[0m\n\u001b[0;32m    273\u001b[0m \u001b[38;5;250m\u001b[39m\u001b[38;5;124;03m\"\"\"Format options then call Tk command with args and options and return\u001b[39;00m\n\u001b[0;32m    274\u001b[0m \u001b[38;5;124;03mthe appropriate result.\u001b[39;00m\n\u001b[0;32m    275\u001b[0m \n\u001b[1;32m   (...)\u001b[0m\n\u001b[0;32m    278\u001b[0m \u001b[38;5;124;03mOtherwise, the function just sets the passed options and the caller\u001b[39;00m\n\u001b[0;32m    279\u001b[0m \u001b[38;5;124;03mshouldn't be expecting a return value anyway.\"\"\"\u001b[39;00m\n\u001b[0;32m    280\u001b[0m options \u001b[38;5;241m=\u001b[39m _format_optdict(options)\n\u001b[1;32m--> 281\u001b[0m res \u001b[38;5;241m=\u001b[39m \u001b[43mtk\u001b[49m\u001b[38;5;241;43m.\u001b[39;49m\u001b[43mcall\u001b[49m\u001b[43m(\u001b[49m\u001b[38;5;241;43m*\u001b[39;49m\u001b[43m(\u001b[49m\u001b[43margs\u001b[49m\u001b[43m \u001b[49m\u001b[38;5;241;43m+\u001b[39;49m\u001b[43m \u001b[49m\u001b[43moptions\u001b[49m\u001b[43m)\u001b[49m\u001b[43m)\u001b[49m\n\u001b[0;32m    283\u001b[0m \u001b[38;5;28;01mif\u001b[39;00m \u001b[38;5;28mlen\u001b[39m(options) \u001b[38;5;241m%\u001b[39m \u001b[38;5;241m2\u001b[39m: \u001b[38;5;66;03m# option specified without a value, return its value\u001b[39;00m\n\u001b[0;32m    284\u001b[0m     \u001b[38;5;28;01mreturn\u001b[39;00m res\n",
      "\u001b[1;31mTclError\u001b[0m: Invalid column index quantiy"
     ]
    }
   ],
   "source": []
  }
 ],
 "metadata": {
  "kernelspec": {
   "display_name": "Python 3 (ipykernel)",
   "language": "python",
   "name": "python3"
  },
  "language_info": {
   "codemirror_mode": {
    "name": "ipython",
    "version": 3
   },
   "file_extension": ".py",
   "mimetype": "text/x-python",
   "name": "python",
   "nbconvert_exporter": "python",
   "pygments_lexer": "ipython3",
   "version": "3.11.3"
  }
 },
 "nbformat": 4,
 "nbformat_minor": 5
}
