{
 "cells": [
  {
   "cell_type": "code",
   "execution_count": 1,
   "id": "6c77e0fc",
   "metadata": {},
   "outputs": [
    {
     "name": "stdout",
     "output_type": "stream",
     "text": [
      "Please input weekday: 8\n",
      "Sunday\n"
     ]
    }
   ],
   "source": [
    "weekday = int(input(\"Please input weekday: \"))\n",
    "if weekday == 2: print(\"Monday\")   \n",
    "elif weekday == 3: print(\"Tuesday\")\n",
    "elif weekday == 4: print(\"Wednesday\")\n",
    "elif weekday == 5: print(\"Thursday\")\n",
    "elif weekday == 6: print(\"Friday\")\n",
    "elif weekday == 7: print(\"Saturday\")\n",
    "elif weekday == 8: print(\"Sunday\")\n",
    "else: print(\"Error, out of range\")"
   ]
  }
 ],
 "metadata": {
  "kernelspec": {
   "display_name": "Python 3 (ipykernel)",
   "language": "python",
   "name": "python3"
  },
  "language_info": {
   "codemirror_mode": {
    "name": "ipython",
    "version": 3
   },
   "file_extension": ".py",
   "mimetype": "text/x-python",
   "name": "python",
   "nbconvert_exporter": "python",
   "pygments_lexer": "ipython3",
   "version": "3.11.3"
  }
 },
 "nbformat": 4,
 "nbformat_minor": 5
}
