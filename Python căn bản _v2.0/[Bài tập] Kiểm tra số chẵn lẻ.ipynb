{
 "cells": [
  {
   "cell_type": "code",
   "execution_count": null,
   "id": "62931927",
   "metadata": {},
   "outputs": [],
   "source": [
    "n = float(input(\"Please input a number: \"))\n",
    "if n % 2 == 0:\n",
    "    print(f\"{n} is an even number\")\n",
    "elif n % 2 == 1:\n",
    "    print(f\"{n} is an odd number\")\n",
    "else: \n",
    "    print(f\"{n} is not)"
   ]
  }
 ],
 "metadata": {
  "kernelspec": {
   "display_name": "Python 3 (ipykernel)",
   "language": "python",
   "name": "python3"
  },
  "language_info": {
   "codemirror_mode": {
    "name": "ipython",
    "version": 3
   },
   "file_extension": ".py",
   "mimetype": "text/x-python",
   "name": "python",
   "nbconvert_exporter": "python",
   "pygments_lexer": "ipython3",
   "version": "3.11.3"
  }
 },
 "nbformat": 4,
 "nbformat_minor": 5
}
