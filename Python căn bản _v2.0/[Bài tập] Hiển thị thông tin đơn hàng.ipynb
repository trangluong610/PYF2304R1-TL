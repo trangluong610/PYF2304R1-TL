{
 "cells": [
  {
   "cell_type": "code",
   "execution_count": 3,
   "id": "e5128d27",
   "metadata": {},
   "outputs": [
    {
     "name": "stdout",
     "output_type": "stream",
     "text": [
      "Xin hãy nhập số tiền đã chi: 85\n",
      "Tiền cần trả là: 70.0\n"
     ]
    }
   ],
   "source": [
    "tien_da_chi = float(input(\"Xin hãy nhập số tiền đã chi: \"))\n",
    "if tien_da_chi < 75:\n",
    "    print(f\"Tiền cần trả là: {tien_da_chi}\")\n",
    "elif 75 <= tien_da_chi < 100:\n",
    "    tien_can_tra = tien_da_chi - 15\n",
    "    print(f\"Tiền cần trả là: {tien_can_tra}\")\n",
    "elif 100 <= tien_da_chi < 150:\n",
    "    tien_can_tra = tien_da_chi - 25\n",
    "    print(f\"Tiền cần trả là: {tien_can_tra}\")\n",
    "else:"
   ]
  }
 ],
 "metadata": {
  "kernelspec": {
   "display_name": "Python 3 (ipykernel)",
   "language": "python",
   "name": "python3"
  },
  "language_info": {
   "codemirror_mode": {
    "name": "ipython",
    "version": 3
   },
   "file_extension": ".py",
   "mimetype": "text/x-python",
   "name": "python",
   "nbconvert_exporter": "python",
   "pygments_lexer": "ipython3",
   "version": "3.11.3"
  }
 },
 "nbformat": 4,
 "nbformat_minor": 5
}
