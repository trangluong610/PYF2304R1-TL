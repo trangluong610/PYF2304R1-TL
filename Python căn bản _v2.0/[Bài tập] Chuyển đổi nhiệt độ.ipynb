{
 "cells": [
  {
   "cell_type": "code",
   "execution_count": 2,
   "id": "3e8cba47",
   "metadata": {},
   "outputs": [
    {
     "name": "stdout",
     "output_type": "stream",
     "text": [
      "Xin nhập giá trị độ C muốn chuyển đổi: 3\n",
      "Giá trị độ F tương ứng là: 37.4\n"
     ]
    }
   ],
   "source": [
    "C = float(input(\"Xin nhập giá trị độ C muốn chuyển đổi: \"))\n",
    "F = (C * 1.8) + 32\n",
    "print(f\"Giá trị độ F tương ứng là: {F}\")"
   ]
  }
 ],
 "metadata": {
  "kernelspec": {
   "display_name": "Python 3 (ipykernel)",
   "language": "python",
   "name": "python3"
  },
  "language_info": {
   "codemirror_mode": {
    "name": "ipython",
    "version": 3
   },
   "file_extension": ".py",
   "mimetype": "text/x-python",
   "name": "python",
   "nbconvert_exporter": "python",
   "pygments_lexer": "ipython3",
   "version": "3.11.3"
  }
 },
 "nbformat": 4,
 "nbformat_minor": 5
}
