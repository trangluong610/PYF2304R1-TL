{
 "cells": [
  {
   "cell_type": "markdown",
   "id": "7ac14915",
   "metadata": {},
   "source": [
    "# Nhập xuất dữ liệu và String\n",
    "## Cách nhập xuất dữ liệu"
   ]
  },
  {
   "cell_type": "markdown",
   "id": "0f202ae8",
   "metadata": {},
   "source": [
    "### Xuất dữ liệu ra màn hình\n",
    "Để in các nội dung mà chúng ta mong muốn ra màn hình, ta sử dụng lệnh print()"
   ]
  },
  {
   "cell_type": "code",
   "execution_count": 5,
   "id": "a6d3f260",
   "metadata": {},
   "outputs": [
    {
     "name": "stdout",
     "output_type": "stream",
     "text": [
      "python is very easy\n",
      "python is very funny\n"
     ]
    }
   ],
   "source": [
    "# Ví dụ: In ra nội dung \"python is very easy\"\n",
    "print(\"python is very easy\")\n",
    "print(\"python is very funny\")\n"
   ]
  },
  {
   "cell_type": "markdown",
   "id": "7733925a",
   "metadata": {},
   "source": [
    "### Các cách custom với lệnh print"
   ]
  },
  {
   "cell_type": "markdown",
   "id": "292ab570",
   "metadata": {},
   "source": [
    "Để in một nội dung kèm theo giá trị của biến, ta có các cách sau:"
   ]
  },
  {
   "cell_type": "code",
   "execution_count": 33,
   "id": "20ff912c",
   "metadata": {},
   "outputs": [],
   "source": [
    "food_1 = \"cookies\"\n",
    "food_2 = \"sandwich\"\n",
    "\n",
    "# I love cookies and I hate sandwich\n",
    "# \"I love \" --food_1-- \" and I hate \" --food_2--"
   ]
  },
  {
   "cell_type": "code",
   "execution_count": 31,
   "id": "6407a448",
   "metadata": {},
   "outputs": [
    {
     "name": "stdout",
     "output_type": "stream",
     "text": [
      "I love chocolate and I hate sandwich\n"
     ]
    }
   ],
   "source": [
    "# In trực tiếp\n",
    "print(\"I love chocolate and I hate sandwich\")"
   ]
  },
  {
   "cell_type": "code",
   "execution_count": 34,
   "id": "27d098b8",
   "metadata": {},
   "outputs": [
    {
     "name": "stdout",
     "output_type": "stream",
     "text": [
      "I love cookies and I hate sandwich\n",
      "I love cookies and I hate sandwich\n"
     ]
    }
   ],
   "source": [
    "# In bằng cách ghép các nội dung với nhau\n",
    "print(\"I love\", food_1, \"and I hate\", food_2, sep=\" \")\n",
    "print(\"I love \" + food_1 + \" and I hate \" + food_2)"
   ]
  },
  {
   "cell_type": "code",
   "execution_count": 35,
   "id": "717666f2",
   "metadata": {},
   "outputs": [
    {
     "name": "stdout",
     "output_type": "stream",
     "text": [
      "I love cookies and I hate sandwich\n"
     ]
    }
   ],
   "source": [
    "# Sử dụng String Format\n",
    "print(f\"I love {food_1} and I hate {food_2}\")"
   ]
  },
  {
   "cell_type": "code",
   "execution_count": 36,
   "id": "c7276e05",
   "metadata": {},
   "outputs": [
    {
     "name": "stdout",
     "output_type": "stream",
     "text": [
      "I love cookies and I hate sandwich\n"
     ]
    }
   ],
   "source": [
    "# Sử dụng nhiều lệnh print\n",
    "# end=\"\\n\" tương đương với enter\n",
    "# end = \"\" sẽ hk bị xuống dòng\n",
    "print(\"I love \", end=\"\")\n",
    "print(food_1, end=\"\")\n",
    "print(\" and I hate \", end=\"\")\n",
    "print(food_2)"
   ]
  },
  {
   "cell_type": "markdown",
   "id": "e10788fb",
   "metadata": {},
   "source": [
    "### Nhập dữ liệu\n",
    "Để nhập dữ liệu vào chương trình python, chúng ta sử dụng hàm input()"
   ]
  },
  {
   "cell_type": "code",
   "execution_count": 41,
   "id": "b8b8afd3",
   "metadata": {},
   "outputs": [
    {
     "name": "stdout",
     "output_type": "stream",
     "text": [
      "Please input your name: -0.979\n",
      "-0.979\n",
      "<class 'str'>\n"
     ]
    }
   ],
   "source": [
    "# Nội dung hàm input trả về luôn luôn là 1 string\n",
    "\n",
    "name = input(\"Please input your name: \")\n",
    "print(name)\n",
    "print(type(name))"
   ]
  },
  {
   "cell_type": "code",
   "execution_count": 1,
   "id": "9e9bd121",
   "metadata": {},
   "outputs": [
    {
     "name": "stdout",
     "output_type": "stream",
     "text": [
      "Please input a number 23233\n",
      "23233\n",
      "<class 'int'>\n"
     ]
    }
   ],
   "source": [
    "# type casting\n",
    "number = int(input(\"Please input a number \"))\n",
    "print(number)\n",
    "print(type(number))"
   ]
  },
  {
   "cell_type": "markdown",
   "id": "337f9c15",
   "metadata": {},
   "source": [
    "#### Thực hành: Viết chương trình nhập vào chiều dài và chiều rộng của hình chữ nhật, sau đó in ra chu vi và diện tích của hình chữ nhật đó"
   ]
  },
  {
   "cell_type": "code",
   "execution_count": 1,
   "id": "add68103",
   "metadata": {},
   "outputs": [
    {
     "name": "stdout",
     "output_type": "stream",
     "text": [
      "Nhập chiều dài hình chữ nhât: 50\n",
      "Nhập chiều rộng hình chữ nhât: 30\n"
     ]
    }
   ],
   "source": [
    "# Nhập các kích thước của hình chữ nhật\n",
    "chieu_dai = int(input(\"Nhập chiều dài hình chữ nhât: \"))\n",
    "chieu_rong = int(input(\"Nhập chiều rộng hình chữ nhât: \"))"
   ]
  },
  {
   "cell_type": "code",
   "execution_count": 7,
   "id": "7a1cd73e",
   "metadata": {},
   "outputs": [],
   "source": [
    "# Tính toán chu vi, diện tích\n",
    "chu_vi = (chieu_dai + chieu_rong) * 2\n",
    "dien_tich = chieu_dai * chieu_rong"
   ]
  },
  {
   "cell_type": "code",
   "execution_count": 7,
   "id": "d0adf735",
   "metadata": {},
   "outputs": [
    {
     "ename": "NameError",
     "evalue": "name 'chu_vi' is not defined",
     "output_type": "error",
     "traceback": [
      "\u001b[1;31m---------------------------------------------------------------------------\u001b[0m",
      "\u001b[1;31mNameError\u001b[0m                                 Traceback (most recent call last)",
      "Cell \u001b[1;32mIn[7], line 2\u001b[0m\n\u001b[0;32m      1\u001b[0m \u001b[38;5;66;03m# In kết quả ra màn hình bằng 3 cách\u001b[39;00m\n\u001b[1;32m----> 2\u001b[0m \u001b[38;5;28mprint\u001b[39m(\u001b[38;5;124mf\u001b[39m\u001b[38;5;124m\"\u001b[39m\u001b[38;5;124mChu vi la \u001b[39m\u001b[38;5;132;01m{\u001b[39;00m\u001b[43mchu_vi\u001b[49m\u001b[38;5;132;01m}\u001b[39;00m\u001b[38;5;124m, diện tích là \u001b[39m\u001b[38;5;132;01m{\u001b[39;00mdien_tich\u001b[38;5;132;01m}\u001b[39;00m\u001b[38;5;124m\"\u001b[39m)\n",
      "\u001b[1;31mNameError\u001b[0m: name 'chu_vi' is not defined"
     ]
    }
   ],
   "source": [
    "# In kết quả ra màn hình bằng 3 cách\n",
    "print(f\"Chu vi la {chu_vi}, diện tích là {dien_tich}\")"
   ]
  },
  {
   "cell_type": "markdown",
   "id": "fb54cb77",
   "metadata": {},
   "source": [
    "#### Thực hành: Viết chương trình nhập vào số đo cạnh và mã màu của tam giác đều, sau đó sử dụng turtle để vẽ ra hình tam giác có số đo và màu tương ứng"
   ]
  },
  {
   "cell_type": "code",
   "execution_count": null,
   "id": "7583b308",
   "metadata": {},
   "outputs": [],
   "source": []
  },
  {
   "cell_type": "markdown",
   "id": "fa7cb208",
   "metadata": {},
   "source": [
    "## Cú pháp import"
   ]
  },
  {
   "cell_type": "markdown",
   "id": "ab2a2ea5",
   "metadata": {},
   "source": [
    "Để sử dụng một module từ bên ngoài, chúng ta sẽ sử dụng từ khóa import. Sau đây là ví dụ về một số cách import phổ biến."
   ]
  },
  {
   "cell_type": "markdown",
   "id": "bd6de377",
   "metadata": {},
   "source": [
    "### Random một giá trị ngẫu nhiên"
   ]
  },
  {
   "cell_type": "code",
   "execution_count": null,
   "id": "ce5547f5",
   "metadata": {},
   "outputs": [],
   "source": []
  },
  {
   "cell_type": "markdown",
   "id": "dfa93dc0",
   "metadata": {},
   "source": [
    "### Thực hiện các phép toán số học"
   ]
  },
  {
   "cell_type": "code",
   "execution_count": 8,
   "id": "4f06f722",
   "metadata": {},
   "outputs": [],
   "source": [
    "# import toàn bộ module"
   ]
  },
  {
   "cell_type": "code",
   "execution_count": null,
   "id": "6b9e471b",
   "metadata": {},
   "outputs": [],
   "source": [
    "# import một phần trong module"
   ]
  },
  {
   "cell_type": "markdown",
   "id": "391969e7",
   "metadata": {},
   "source": [
    "## Xử lý String trong python"
   ]
  },
  {
   "cell_type": "markdown",
   "id": "ab461669",
   "metadata": {},
   "source": [
    "### String là gì?\n",
    "String là một chuỗi gồm các ký tự Unicode"
   ]
  },
  {
   "cell_type": "markdown",
   "id": "94a27b90",
   "metadata": {},
   "source": [
    "### Khởi tạo một string"
   ]
  },
  {
   "cell_type": "code",
   "execution_count": null,
   "id": "b14f4fcc",
   "metadata": {},
   "outputs": [],
   "source": [
    "# one-line string\n",
    "course_name = \"Python Fundamental\""
   ]
  },
  {
   "cell_type": "code",
   "execution_count": 8,
   "id": "9cc506a7",
   "metadata": {},
   "outputs": [
    {
     "name": "stdout",
     "output_type": "stream",
     "text": [
      "Kết thức bài học này, bạn có thể:\n",
      "- Biết cách input dữ liệu\n",
      "- Biết cách print dữ liệu\n",
      "- Biết cách xử lý string\n"
     ]
    }
   ],
   "source": [
    "# multi-line string\n",
    "lesson_content = '''Kết thức bài học này, bạn có thể:\n",
    "- Biết cách input dữ liệu\n",
    "- Biết cách print dữ liệu\n",
    "- Biết cách xử lý string'''\n",
    "print(lesson_content)"
   ]
  },
  {
   "cell_type": "markdown",
   "id": "8f4270fd",
   "metadata": {},
   "source": [
    "### Các thao tác phổ biến với string"
   ]
  },
  {
   "cell_type": "code",
   "execution_count": 9,
   "id": "c825f890",
   "metadata": {},
   "outputs": [
    {
     "name": "stdout",
     "output_type": "stream",
     "text": [
      "18\n"
     ]
    }
   ],
   "source": [
    "# Kiểm tra độ dài string\n",
    "course_name = \"Python Fundamental\"\n",
    "print(len(course_name))"
   ]
  },
  {
   "cell_type": "code",
   "execution_count": 14,
   "id": "6de96621",
   "metadata": {},
   "outputs": [
    {
     "name": "stdout",
     "output_type": "stream",
     "text": [
      "o\n",
      "x\n"
     ]
    }
   ],
   "source": [
    "# Truy xuất ký tự bằng cơ chế indexing và reverse indexing\n",
    "working_calendar = \"oxoooxx\"\n",
    "\n",
    "#indexing\n",
    "print(working_calendar[3])\n",
    "\n",
    "#reverse indexing\n",
    "print(working_calendar[-2])"
   ]
  },
  {
   "cell_type": "markdown",
   "id": "a4f949d9",
   "metadata": {},
   "source": [
    "#### Thực hành: Viết chương trình nhập vào một chuỗi bất kỳ, sau đó in ra ký tự đầu tiên và ký tự cuối cùng của chuỗi đó."
   ]
  },
  {
   "cell_type": "code",
   "execution_count": 17,
   "id": "14833f18",
   "metadata": {},
   "outputs": [
    {
     "name": "stdout",
     "output_type": "stream",
     "text": [
      "Please input your phone number: 033584324\n",
      "0\n",
      "4\n"
     ]
    }
   ],
   "source": [
    "\n",
    "phone_number = input(\"Please input your phone number: \" )\n",
    "print(phone_number[0])\n",
    "print(phone_number[-1])\n"
   ]
  },
  {
   "cell_type": "code",
   "execution_count": 26,
   "id": "9aad2f16",
   "metadata": {},
   "outputs": [
    {
     "name": "stdout",
     "output_type": "stream",
     "text": [
      "Long\n",
      "Long\n",
      "Python\n",
      "Ln\n",
      "string\n",
      "Ln,yh\n",
      "Lgyo3-si\n",
      "gnirts,7-5-3,nohtyP,gnoL\n"
     ]
    }
   ],
   "source": [
    "# Cắt string theo index\n",
    "# Cú pháp: <tên biến>[start:end:step]\n",
    "# Nếu muốn lấy các ký tự 0, 1, 2, 3 thì ở End mình phải cộng thêm 1. Có nghĩa là mình sẽ lấy từ ký tự 0 đến trước ký tự 4\n",
    "# Default value: start = 0, end = len(), step = 1\n",
    "content = 'Long,Python,3-5-7,string'\n",
    "print(content[0:4])\n",
    "print(content[:4])\n",
    "print(content[5:11])\n",
    "print(content[0:4:2])\n",
    "print(content[18:])\n",
    "print(content[:10:2])\n",
    "print(content[::3])\n",
    "print(content[::-1])  # đảo ngược chuỗi"
   ]
  },
  {
   "cell_type": "code",
   "execution_count": null,
   "id": "6ec63f90",
   "metadata": {},
   "outputs": [],
   "source": [
    "# Ghép chuỗi và lặp chuỗi\n",
    "a = \"hello\"\n",
    "b = \"world\"\n",
    "print(a + b) #Ghép chuỗi\n",
    "print(a * 3) #Lặp chuỗi"
   ]
  },
  {
   "cell_type": "markdown",
   "id": "84c2dcb9",
   "metadata": {},
   "source": [
    "#### Thực hành: Xử lý và in ra các thông tin tương ứng trong chuỗi"
   ]
  },
  {
   "cell_type": "code",
   "execution_count": null,
   "id": "cd71f135",
   "metadata": {},
   "outputs": [],
   "source": []
  },
  {
   "cell_type": "markdown",
   "id": "7cbd965f",
   "metadata": {},
   "source": [
    "### Các hàm thông dụng khi xử lý string"
   ]
  },
  {
   "cell_type": "code",
   "execution_count": 7,
   "id": "eb5932a1",
   "metadata": {},
   "outputs": [
    {
     "name": "stdout",
     "output_type": "stream",
     "text": [
      "19\n"
     ]
    }
   ],
   "source": [
    "# len\n",
    "content = \"Python Fundamental\"\n",
    "print(len(content))"
   ]
  },
  {
   "cell_type": "code",
   "execution_count": 6,
   "id": "6bef6d33",
   "metadata": {},
   "outputs": [
    {
     "name": "stdout",
     "output_type": "stream",
     "text": [
      "0\n"
     ]
    }
   ],
   "source": [
    "# count\n",
    "content = \"Python Fundamental\"\n",
    "print(content.count(\"Python1\"))"
   ]
  },
  {
   "cell_type": "code",
   "execution_count": 13,
   "id": "1582bbd8",
   "metadata": {},
   "outputs": [
    {
     "name": "stdout",
     "output_type": "stream",
     "text": [
      "MÁY NƯỚC NÓNG\n",
      "máy nước nóng\n",
      "Máy nước nóng\n"
     ]
    }
   ],
   "source": [
    "# upper, lower\n",
    "# Máy nước nóng có thể đc viết theo 4 kiểu như: \n",
    "# máy nước nóng \n",
    "# Máy Nước Nóng\n",
    "# MÁY NƯỚC NÓNG\n",
    "# Máy nước nóng\n",
    "\n",
    "content = \"Máy nước nóng\"\n",
    "print(content.upper())\n",
    "print(content.lower())\n",
    "print(content.capitalize())"
   ]
  },
  {
   "cell_type": "code",
   "execution_count": 26,
   "id": "0d08f708",
   "metadata": {
    "scrolled": true
   },
   "outputs": [
    {
     "name": "stdout",
     "output_type": "stream",
     "text": [
      "Máy nước nóng,,,,,,,,,,\n",
      "  ,,,,,,Máy nước nóng\n",
      "  ,,,,,,Máy nước nóng\n",
      "Trang Luong\n"
     ]
    }
   ],
   "source": [
    "# lstrip, rstrip, strip\n",
    "content = \"  ,,,,,,Máy nước nóng,,,,,,,,,,\"\n",
    "\n",
    "# mình phải strip dấu cách trước, r cắt dấu phẩy\n",
    "print(content.lstrip().lstrip(\",\"))\n",
    "print(content.rstrip(\",\"))\n",
    "print(content.strip(\",\"))\n",
    "\n",
    "content = \" ...,,,  Trang Luong\"\n",
    "print(content.lstrip().lstrip(\".\").lstrip(\",\").lstrip())"
   ]
  },
  {
   "cell_type": "code",
   "execution_count": 23,
   "id": "62180d52",
   "metadata": {},
   "outputs": [
    {
     "name": "stdout",
     "output_type": "stream",
     "text": [
      "['My', 'name', 'is', 'Long']\n"
     ]
    }
   ],
   "source": [
    "# split\n",
    "# Mình sẽ dùng hàm split cho các bài toán tập hợp\n",
    "content = \"My name is Long\"\n",
    "print(content.split())"
   ]
  },
  {
   "cell_type": "markdown",
   "id": "032ba1fc",
   "metadata": {},
   "source": []
  }
 ],
 "metadata": {
  "kernelspec": {
   "display_name": "Python 3 (ipykernel)",
   "language": "python",
   "name": "python3"
  },
  "language_info": {
   "codemirror_mode": {
    "name": "ipython",
    "version": 3
   },
   "file_extension": ".py",
   "mimetype": "text/x-python",
   "name": "python",
   "nbconvert_exporter": "python",
   "pygments_lexer": "ipython3",
   "version": "3.11.3"
  }
 },
 "nbformat": 4,
 "nbformat_minor": 5
}
